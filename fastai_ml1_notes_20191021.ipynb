{
 "cells": [
  {
   "cell_type": "markdown",
   "metadata": {},
   "source": [
    "$R^2$ is one of the metrics used to judge the random forest model. Intuitively, it tells you how good your model is when you compare it with a naive model which just predicts the mean. The formula is $R^2 =  1 - \\frac{sum of prediction error square} {sum of dependable variable variance}$. \n",
    "\n",
    "assumine dependable y1, y2, ...yn, predictions are p1, p2, ... pn, mean of y is ymean. Then sum of prediction error squared is $(y1-p1)^2 + (y2-p2)^2 + ....$, variance is  $(y1-ymean)^2 + (y2-ymean)^2 + ....$"
   ]
  }
 ],
 "metadata": {
  "kernelspec": {
   "display_name": "Python 3",
   "language": "python",
   "name": "python3"
  },
  "language_info": {
   "codemirror_mode": {
    "name": "ipython",
    "version": 3
   },
   "file_extension": ".py",
   "mimetype": "text/x-python",
   "name": "python",
   "nbconvert_exporter": "python",
   "pygments_lexer": "ipython3",
   "version": "3.7.3"
  }
 },
 "nbformat": 4,
 "nbformat_minor": 2
}
